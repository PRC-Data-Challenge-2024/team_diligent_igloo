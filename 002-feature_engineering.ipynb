{
 "cells": [
  {
   "cell_type": "code",
   "execution_count": 1,
   "metadata": {},
   "outputs": [],
   "source": [
    "import os\n",
    "import copy\n",
    "import joblib\n",
    "import shutil\n",
    "import numpy as np\n",
    "import pandas as pd\n",
    "import networkx as nx\n",
    "from tqdm.notebook import tqdm\n",
    "from traffic.core import Flight\n",
    "from traffic.core import Traffic\n",
    "from matplotlib import pyplot as plt\n",
    "from joblib import Parallel, delayed\n",
    "\n",
    "runway_df = pd.read_csv(\"runways.csv\")\n",
    "airports_df = pd.read_csv(\"airports.csv\")\n",
    "os.environ[\"KMP_DUPLICATE_LIB_OK\"]=\"TRUE\"\n",
    "pd.set_option(\"display.max_columns\", 100)\n",
    "data_folder = os.path.join(os.getcwd(), \"data\")\n",
    "acropole_folder = \"../../../Acropole/acropole/\"\n",
    "flights_folder = os.path.join(os.getcwd(), \"flightDfs\")\n",
    "cha_df = pd.read_csv(os.path.join(data_folder, \"challenge_set.csv\"))\n",
    "sub_df = pd.read_csv(os.path.join(data_folder, \"submission_set.csv\"))\n",
    "final_sub_df = pd.read_csv(os.path.join(data_folder, \"final_submission_set.csv\"))\n",
    "acropole_folder = \"../../../Acropole/acropole/data/\"\n",
    "flight_fuel_df = joblib.load(\"flight_fuel_df.pkl\")\n",
    "usable_flight_ids = list(set(cha_df.flight_id.unique()).union(\n",
    "    set(sub_df.flight_id.unique()).union(\n",
    "        set(final_sub_df.flight_id.unique())\n",
    "    )\n",
    "))"
   ]
  },
  {
   "cell_type": "code",
   "execution_count": 2,
   "metadata": {},
   "outputs": [],
   "source": [
    "def is_leap_year(year):\n",
    "    \"\"\"\n",
    "    Determines if a given year is a leap year.\n",
    "\n",
    "    Parameters:\n",
    "    year (int): The year to check.\n",
    "\n",
    "    Returns:\n",
    "    bool: True if the year is a leap year, False otherwise.\n",
    "    \"\"\"\n",
    "    return (year % 4 == 0 and year % 100 != 0) or (year % 400 == 0)\n",
    "\n",
    "def day_cyclic_values(timestamps):\n",
    "    \"\"\"\n",
    "    Computes cyclic values (x, y) for time of day using a unit circle.\n",
    "\n",
    "    Parameters:\n",
    "    timestamps (pd.Series): Timestamps for which to compute the cyclic values.\n",
    "\n",
    "    Returns:\n",
    "    tuple: Two numpy arrays representing the x and y coordinates on a unit circle.\n",
    "    \"\"\"\n",
    "    second_of_day = timestamps.dt.hour * 3600 + timestamps.dt.minute * 60 + timestamps.dt.second\n",
    "    second_of_day_normalized = second_of_day / 86400.0  # 86400 seconds in a day\n",
    "    x_day = np.cos(2 * np.pi * second_of_day_normalized)\n",
    "    y_day = np.sin(2 * np.pi * second_of_day_normalized)\n",
    "    return x_day, y_day\n",
    "\n",
    "def week_cyclic_values(timestamps):\n",
    "    \"\"\"\n",
    "    Computes cyclic values (x, y) for the day of the week using a unit circle.\n",
    "\n",
    "    Parameters:\n",
    "    timestamps (pd.Series): Timestamps for which to compute the cyclic values.\n",
    "\n",
    "    Returns:\n",
    "    tuple: Two numpy arrays representing the x and y coordinates on a unit circle.\n",
    "    \"\"\"\n",
    "    day_of_week = timestamps.dt.dayofweek\n",
    "    second_of_day = timestamps.dt.hour * 3600 + timestamps.dt.minute * 60 + timestamps.dt.second\n",
    "    day_of_week_normalized = day_of_week / 7.0\n",
    "    second_of_day_normalized = second_of_day / 86400.0  # 86400 seconds in a day\n",
    "    week_fraction = day_of_week_normalized + second_of_day_normalized / 7.0\n",
    "    x_week = np.cos(2 * np.pi * week_fraction)\n",
    "    y_week = np.sin(2 * np.pi * week_fraction)\n",
    "    return x_week, y_week\n",
    "\n",
    "def month_cyclic_values(timestamps):\n",
    "    \"\"\"\n",
    "    Computes cyclic values (x, y) for the day of the month using a unit circle.\n",
    "\n",
    "    Parameters:\n",
    "    timestamps (pd.Series): Timestamps for which to compute the cyclic values.\n",
    "\n",
    "    Returns:\n",
    "    tuple: Two numpy arrays representing the x and y coordinates on a unit circle.\n",
    "    \"\"\"\n",
    "    day_of_month = timestamps.dt.day\n",
    "    second_of_day = timestamps.dt.hour * 3600 + timestamps.dt.minute * 60 + timestamps.dt.second\n",
    "    days_in_month = timestamps.dt.days_in_month\n",
    "    day_of_month_normalized = day_of_month / days_in_month\n",
    "    second_of_day_normalized = second_of_day / 86400.0  # 86400 seconds in a day\n",
    "    month_fraction = day_of_month_normalized + second_of_day_normalized / days_in_month\n",
    "    x_month = np.cos(2 * np.pi * month_fraction)\n",
    "    y_month = np.sin(2 * np.pi * month_fraction)\n",
    "    return x_month, y_month\n",
    "\n",
    "def year_cyclic_values(timestamps):\n",
    "    \"\"\"\n",
    "    Computes cyclic values (x, y) for the day of the year using a unit circle, accounting for leap years.\n",
    "\n",
    "    Parameters:\n",
    "    timestamps (pd.Series): Timestamps for which to compute the cyclic values.\n",
    "\n",
    "    Returns:\n",
    "    tuple: Two numpy arrays representing the x and y coordinates on a unit circle.\n",
    "    \"\"\"\n",
    "    year = timestamps.dt.year\n",
    "    day_of_year = timestamps.dt.dayofyear\n",
    "    second_of_day = timestamps.dt.hour * 3600 + timestamps.dt.minute * 60 + timestamps.dt.second\n",
    "    days_in_year = year.apply(lambda y: 366 if is_leap_year(y) else 365)\n",
    "    day_of_year_normalized = day_of_year / days_in_year\n",
    "    second_of_day_normalized = second_of_day / 86400.0  # 86400 seconds in a day\n",
    "    year_fraction = day_of_year_normalized + second_of_day_normalized / days_in_year\n",
    "    x_year = np.cos(2 * np.pi * year_fraction)\n",
    "    y_year = np.sin(2 * np.pi * year_fraction)\n",
    "    return x_year, y_year\n",
    "\n",
    "def generate_phase_segments(df):\n",
    "    \"\"\"\n",
    "    Splits a DataFrame into segments where the 'phase' column changes.\n",
    "\n",
    "    Parameters:\n",
    "    df (pd.DataFrame): Input DataFrame containing a 'phase' column.\n",
    "\n",
    "    Returns:\n",
    "    dict: A dictionary where keys are phase values and values are lists of indices for each segment.\n",
    "    \"\"\"\n",
    "    df = df[[\"phase\"]].copy()\n",
    "    # Create a shifted phase column to detect phase changes\n",
    "    df['shifted_phase'] = df['phase'].shift(1)\n",
    "\n",
    "    # Mark where phase changes (start of a new segment)\n",
    "    df['segment'] = (df['phase'] != df['shifted_phase']).cumsum()\n",
    "\n",
    "    # Initialize the dictionary to store the segments\n",
    "    phase_segments = {}\n",
    "\n",
    "    # Use groupby to group by phase and segment and collect indices\n",
    "    for (phase, segment), group in df.groupby(['phase', 'segment']):\n",
    "        if phase not in phase_segments:\n",
    "            phase_segments[phase] = []\n",
    "        phase_segments[phase].append(np.array(list(group.index)))\n",
    "\n",
    "    return phase_segments\n",
    "\n",
    "def haversine_np(lon1, lat1, lon2, lat2):\n",
    "    \"\"\"\n",
    "    Compute the great-circle distance between two points on the Earth's surface using NumPy, in meters.\n",
    "    \"\"\"\n",
    "    # Convert decimal degrees to radians\n",
    "    lon1, lat1, lon2, lat2 = map(np.radians, [lon1, lat1, lon2, lat2])\n",
    "    \n",
    "    # Haversine formula\n",
    "    dlon = lon2 - lon1\n",
    "    dlat = lat2 - lat1\n",
    "    a = np.sin(dlat / 2)**2 + np.cos(lat1) * np.cos(lat2) * np.sin(dlon / 2)**2\n",
    "    c = 2 * np.arcsin(np.sqrt(a))\n",
    "    \n",
    "    # Radius of earth in meters (6371 km converted to meters)\n",
    "    r = 6371000\n",
    "    return c * r\n",
    "\n",
    "def calculate_distances(df, lat1_col, lon1_col, lat2_col, lon2_col):\n",
    "    # Shift the lat/lon columns to create the \"previous\" row\n",
    "    lat1 = df[lat1_col].values\n",
    "    lon1 = df[lon1_col].values\n",
    "    lat2 = df[lat2_col].values\n",
    "    lon2 = df[lon2_col].values\n",
    "    \n",
    "    # Compute the distance between consecutive points\n",
    "    distances = haversine_np(lon1, lat1, lon2, lat2)\n",
    "\n",
    "    # Add distances to DataFrame in meters\n",
    "    return distances\n",
    "\n",
    "def get_flight_stats_row(flight_df=\"df\", n_quantiles=5, stats_columns=\"list\"):\n",
    "    \"\"\"\n",
    "    Computes statistics (mean, std, quantiles) and cyclic variability for flight data.\n",
    "\n",
    "    Parameters:\n",
    "    flight_df (pd.DataFrame): DataFrame containing flight data.\n",
    "    n_quantiles (int): Number of quantiles to compute.\n",
    "    stats_columns (list): List of column names to compute statistics on.\n",
    "\n",
    "    Returns:\n",
    "    pd.Series: A series of computed statistics including mean, standard deviation, quantiles, \n",
    "               and variability within quantile bins.\n",
    "    \"\"\"\n",
    "    means = flight_df[stats_columns].mean()\n",
    "    stdvs = flight_df[stats_columns].std(ddof=0)\n",
    "    quants = flight_df[stats_columns].quantile(q=np.linspace(0,1,n_quantiles).round(2))\n",
    "    total_distance = pd.Series(flight_df.distance.sum(), index=[\"total_distance\"])\n",
    "    # rearranging\n",
    "    means.index = [\"mean_\" + ind for ind in means.index]\n",
    "    stdvs.index = [\"stdv_\" + ind for ind in stdvs.index]\n",
    "    quants = quants.stack().to_frame().T\n",
    "    quants.columns = [f\"{col[0]}_{col[1]}\" for col in quants.columns]\n",
    "    quants = quants.loc[0]\n",
    "    \n",
    "    # Step 1: Prepare dictionaries to hold standard deviations and normalized standard deviations\n",
    "    quantile_stdvs_dict = {}\n",
    "    normalized_stdvs_dict = {}\n",
    "    \n",
    "    # Step 2: Loop over each stat_column\n",
    "    for column in stats_columns:\n",
    "        # Get the quantile values for the current column, ensuring duplicates are dropped\n",
    "        quantile_bins = flight_df[column].quantile(q=np.linspace(0, 1, n_quantiles)).values\n",
    "        unique_quantile_bins = np.unique(quantile_bins)  # Remove duplicate quantile values\n",
    "        \n",
    "        # Digitize the data points into the unique quantile bins\n",
    "        bin_labels = np.arange(1, len(unique_quantile_bins))  # Adjust labels for the available unique bins\n",
    "        binned_data = pd.cut(flight_df[column], bins=unique_quantile_bins, labels=bin_labels, include_lowest=True)\n",
    "        \n",
    "        # Compute the standard deviation for each unique bin\n",
    "        if len(unique_quantile_bins)==1:\n",
    "            for i in range(1, n_quantiles):\n",
    "                quantile_stdvs_dict[f'{column}_quant_{i}_stdv'] = stdvs[f'stdv_{column}']\n",
    "        else:\n",
    "            for i in range(1, len(unique_quantile_bins)):\n",
    "                bin_stdv = flight_df[column][binned_data == i].std()\n",
    "                quantile_stdvs_dict[f'{column}_quant_{i}_stdv'] = bin_stdv\n",
    "        \n",
    "            # If there are fewer quantiles than desired, duplicate the last bin's standard deviation        \n",
    "            last_stdv = quantile_stdvs_dict[f'{column}_quant_{len(unique_quantile_bins)-1}_stdv']\n",
    "            for i in range(len(unique_quantile_bins), n_quantiles):\n",
    "                quantile_stdvs_dict[f'{column}_quant_{i}_stdv'] = last_stdv\n",
    "        \n",
    "        # Normalize the standard deviations by dividing by the absolute mean (handling division by zero)\n",
    "        mean_value = abs(means[f'mean_{column}'])\n",
    "        for i in range(1, n_quantiles):\n",
    "            stdv_col_name = f'{column}_quant_{i}_stdv'\n",
    "            stdv_value = quantile_stdvs_dict[stdv_col_name]\n",
    "            normalized_value = stdv_value / mean_value if mean_value != 0 else -1\n",
    "            normalized_stdvs_dict[f'{column}_quant_{i}_norm_stdv'] = normalized_value\n",
    "    \n",
    "    # Step 3: Convert the dictionaries to DataFrames\n",
    "    quantile_stdvs = pd.DataFrame(quantile_stdvs_dict, index=[0])\n",
    "    normalized_stdvs = pd.DataFrame(normalized_stdvs_dict, index=[0])\n",
    "    \n",
    "    # concatenating everything\n",
    "    flight_stats_row = pd.concat([\n",
    "        means, stdvs, quants, total_distance, quantile_stdvs.squeeze(), normalized_stdvs.squeeze()\n",
    "    ])\n",
    "\n",
    "    return flight_stats_row\n",
    "\n",
    "def get_flight_stats_df(flight_df=\"df\", n_quantiles=5, stats_columns=\"list\", possible_phases=\"list\"):\n",
    "    \"\"\"\n",
    "    Computes flight statistics for each phase and generates a DataFrame with the results.\n",
    "\n",
    "    Parameters:\n",
    "    flight_df (pd.DataFrame): DataFrame containing flight data.\n",
    "    n_quantiles (int): Number of quantiles to compute.\n",
    "    stats_columns (list): List of column names to compute statistics on.\n",
    "    possible_phases (list): List of possible flight phases to consider.\n",
    "\n",
    "    Returns:\n",
    "    pd.DataFrame: DataFrame containing statistics for each flight and phase.\n",
    "    \"\"\"\n",
    "    global_flight_stats = get_flight_stats_row(\n",
    "        flight_df=flight_df, \n",
    "        n_quantiles=n_quantiles,\n",
    "        stats_columns=stats_columns, \n",
    "    )\n",
    "    \n",
    "    all_phase_flight_stats = []\n",
    "    all_phases_dict = generate_phase_segments(flight_df)\n",
    "    for phase in possible_phases:\n",
    "        phase_df = flight_df.loc[flight_df.phase==phase]\n",
    "        if len(phase_df):\n",
    "            # global_phase_variability_stats\n",
    "            phase_flight_stats = get_flight_stats_row(\n",
    "                flight_df=phase_df,\n",
    "                n_quantiles=n_quantiles,\n",
    "                stats_columns=stats_columns,\n",
    "            )\n",
    "            n_phase_segments = len(all_phases_dict[phase])\n",
    "            phase_flight_stats = pd.concat([\n",
    "                pd.Series(\n",
    "                    data=[n_phase_segments],\n",
    "                    index=[\"n_segments\"],\n",
    "                ),\n",
    "                phase_flight_stats\n",
    "            ])\n",
    "            # inter_segment_phase_variability_stats\n",
    "            # how much change is there between segments in the same phase\n",
    "            if n_phase_segments > 1:\n",
    "                stdvs_segment_coefficients_of_variation = []\n",
    "                means_segment_coefficients_of_variation = []\n",
    "                for phase_segment_idxs in all_phases_dict[phase]:\n",
    "                    segment = phase_df.loc[phase_segment_idxs]\n",
    "                    segment_coefficients_of_variation = (\n",
    "                        segment[stats_columns].std(ddof=0) / abs(segment[stats_columns].mean())\n",
    "                    ).replace({np.inf: np.nan, -np.inf: np.nan})\n",
    "                    stdv_segment_coefficients_of_variation = segment_coefficients_of_variation.std(ddof=0)\n",
    "                    mean_segment_coefficients_of_variation = segment_coefficients_of_variation.mean()\n",
    "                    stdvs_segment_coefficients_of_variation.append(stdv_segment_coefficients_of_variation)\n",
    "                    means_segment_coefficients_of_variation.append(mean_segment_coefficients_of_variation)\n",
    "                \n",
    "                stdv_stdvs_segment_coefficients_of_variation = np.std(stdvs_segment_coefficients_of_variation, ddof=0)\n",
    "                stdv_means_segment_coefficients_of_variation = np.std(means_segment_coefficients_of_variation, ddof=0)\n",
    "                inter_segment_variability_stats = pd.Series(\n",
    "                    data=[\n",
    "                        stdv_stdvs_segment_coefficients_of_variation, \n",
    "                        stdv_means_segment_coefficients_of_variation\n",
    "                    ],\n",
    "                    index=[\n",
    "                        f\"{phase}_stdv_stdvs_segment_coefficients_of_variation\", \n",
    "                        f\"{phase}_stdv_means_segment_coefficients_of_variation\", \n",
    "                    ]\n",
    "                )\n",
    "            else:\n",
    "                inter_segment_variability_stats = pd.Series(\n",
    "                    data=[\n",
    "                        0, \n",
    "                        0\n",
    "                    ],\n",
    "                    index=[\n",
    "                        f\"{phase}_stdv_stdvs_segment_coefficients_of_variation\", \n",
    "                        f\"{phase}_stdv_means_segment_coefficients_of_variation\", \n",
    "                    ]\n",
    "                )\n",
    "        else:\n",
    "            phase_flight_stats = pd.Series(\n",
    "                np.repeat(np.nan, len(global_flight_stats)),\n",
    "                index=global_flight_stats.index\n",
    "            )\n",
    "            phase_flight_stats = pd.concat([\n",
    "                pd.Series(\n",
    "                    data=[0],\n",
    "                    index=[\"n_segments\"],\n",
    "                ),\n",
    "                phase_flight_stats\n",
    "            ])\n",
    "            inter_segment_variability_stats = pd.Series(\n",
    "                data=[\n",
    "                    np.nan, \n",
    "                    np.nan,\n",
    "                ],\n",
    "                index=[\n",
    "                    f\"{phase}_stdv_stdvs_segment_coefficients_of_variation\", \n",
    "                    f\"{phase}_stdv_means_segment_coefficients_of_variation\", \n",
    "                ]\n",
    "            )\n",
    "        phase_flight_stats.index = [f\"{phase}_{index}\" for index in phase_flight_stats.index]\n",
    "        all_phase_flight_stats.append(\n",
    "            pd.concat([\n",
    "                inter_segment_variability_stats,\n",
    "                phase_flight_stats\n",
    "            ])\n",
    "        )\n",
    "    all_phase_flight_stats = pd.concat(all_phase_flight_stats)\n",
    "    flight_stats = pd.concat([global_flight_stats, all_phase_flight_stats])\n",
    "    flight_stats_df = pd.DataFrame(flight_stats, columns=[int(flight_df.flight_id.unique())]).T\n",
    "    return flight_stats_df\n",
    "\n",
    "def process_flight_stats_batch(flight_ids_batch, flights_folder, n_quantiles, stats_columns, possible_phases):\n",
    "    \"\"\"\n",
    "    Processes a batch of flight IDs and computes statistics for each flight.\n",
    "\n",
    "    Parameters:\n",
    "    flight_ids_batch (list): List of flight IDs to process.\n",
    "    flights_folder (str): Path to the folder containing flight data.\n",
    "    n_quantiles (int): Number of quantiles to compute.\n",
    "    stats_columns (list): List of column names to compute statistics on.\n",
    "    possible_phases (list): List of possible flight phases to consider.\n",
    "\n",
    "    Returns:\n",
    "    pd.DataFrame: DataFrame containing statistics for all flights in the batch.\n",
    "    \"\"\"\n",
    "    flight_stats_df_list = []\n",
    "    for flight_id in flight_ids_batch:\n",
    "        flight_df = joblib.load(os.path.join(flights_folder, str(flight_id)))\n",
    "        flight_stats_df = get_flight_stats_df(\n",
    "            flight_df=flight_df, \n",
    "            n_quantiles=n_quantiles,\n",
    "            stats_columns=stats_columns, \n",
    "            possible_phases=possible_phases,\n",
    "        )\n",
    "        flight_stats_df_list.append(flight_stats_df)\n",
    "    flight_stats_df = pd.concat(flight_stats_df_list, axis=0)\n",
    "    return flight_stats_df\n"
   ]
  },
  {
   "cell_type": "code",
   "execution_count": 3,
   "metadata": {},
   "outputs": [
    {
     "data": {
      "text/plain": [
       "['aircraft_df.pkl']"
      ]
     },
     "execution_count": 3,
     "metadata": {},
     "output_type": "execute_result"
    }
   ],
   "source": [
    "# arcraft features\n",
    "aircraft_df = pd.read_excel(\"FAA-Aircraft-Char-DB-AC-150-5300-13B-App-2023-09-07.xlsx\")\n",
    "aircraft_df[\"Wingspan\"] = pd.DataFrame(\n",
    "    list(zip(\n",
    "        aircraft_df.Wingspan_ft_without_winglets_sharklets, \n",
    "        aircraft_df.Wingspan_ft_with_winglets_sharklets\n",
    "    ))\n",
    ").T.mean().values\n",
    "aircraft_df[\"Wingspan_dif_winglets\"] = pd.DataFrame(\n",
    "    list(zip(\n",
    "        aircraft_df.Wingspan_ft_without_winglets_sharklets, \n",
    "        aircraft_df.Wingspan_ft_with_winglets_sharklets\n",
    "    ))\n",
    ").T.diff().dropna(how=\"all\").fillna(0).values[0]\n",
    "aircraft_df = aircraft_df[\n",
    "    [\n",
    "        \"ICAO_Code\",\n",
    "        \"Wingspan\",\n",
    "        \"Wingspan_dif_winglets\",\n",
    "        \"Num_Engines\",\n",
    "        \"Approach_Speed_knot\",\n",
    "        \"Length_ft\",\n",
    "        \"Tail_Height_at_OEW_ft\",\n",
    "        \"Wheelbase_ft\",\n",
    "        \"Cockpit_to_Main_Gear_ft\",\n",
    "        \"Main_Gear_Width_ft\",\n",
    "        \"MTOW_lb\",\n",
    "        \"MALW_lb\", \n",
    "        \"Parking_Area_ft2\",\n",
    "    ]\n",
    "]\n",
    "aircraft_df.index = aircraft_df.ICAO_Code\n",
    "aircraft_df = aircraft_df.drop(columns=[\"ICAO_Code\"])\n",
    "# Read engine data\n",
    "engine_df = pd.read_excel(\"ICAO_engine_data.xlsx\")\n",
    "engine_df.index = engine_df.ICAO_Code\n",
    "engine_df = engine_df.drop(columns=[\"ICAO_Code\"])\n",
    "# Add engine data\n",
    "aircraft_df = aircraft_df.join(engine_df) # Adds 80 features\n",
    "# Read some additional features for the acropole fuel estimation\n",
    "acropole_features_df = pd.read_csv(\"aircraft_params_acropole_BB.csv\")\n",
    "acropole_features_df = acropole_features_df.rename(columns={\"ACFT_ICAO_TYPE\": \"ICAO_Code\"})\n",
    "acropole_features_df.index = acropole_features_df.ICAO_Code\n",
    "acropole_features_df = acropole_features_df.drop(columns=[\"ICAO_Code\"])\n",
    "# Add acropole features\n",
    "aircraft_df = aircraft_df.join(acropole_features_df, how='left', lsuffix='_left')\n",
    "aircraft_df = aircraft_df[aircraft_df.columns[~(aircraft_df.columns.str.contains(\"_left\"))]]\n",
    "# We are only considering numerical features. This protects against cases in which test sets contain unseen ac_types.\n",
    "# In that scenario, new unseen categorical variables would most likely reduce the performance of our model, whereas\n",
    "# Numerical attributes allow us to make better guesstimations\n",
    "aircraft_df = aircraft_df.loc[\n",
    "    list(\n",
    "        set(cha_df.aircraft_type.unique()).union(\n",
    "            set(final_sub_df.aircraft_type.unique())\n",
    "        )\n",
    "    ),\n",
    "    aircraft_df.columns[aircraft_df.dtypes!=\"object\"]\n",
    "]\n",
    "\n",
    "# renaming columns for traceability\n",
    "aircraft_df.columns = [\"AIRCRAFT_\" + column for column in aircraft_df.columns]\n",
    "joblib.dump(aircraft_df, \"aircraft_df.pkl\")"
   ]
  },
  {
   "cell_type": "code",
   "execution_count": 4,
   "metadata": {},
   "outputs": [
    {
     "data": {
      "text/plain": [
       "['airport_df.pkl']"
      ]
     },
     "execution_count": 4,
     "metadata": {},
     "output_type": "execute_result"
    }
   ],
   "source": [
    "# generating features for each airport\n",
    "airport_df = pd.DataFrame(index=list(set(cha_df.adep.unique()).union(set(cha_df.ades.unique()))))\n",
    "\n",
    "# lat lon and elevation\n",
    "lat_lon_el = airports_df.loc[\n",
    "    airports_df.ident.isin(airport_df.index), \n",
    "    [\"latitude_deg\", \"longitude_deg\", \"elevation_ft\",]\n",
    "].values\n",
    "airport_order = airports_df.loc[\n",
    "    airports_df.ident.isin(airport_df.index)\n",
    "].ident.values\n",
    "airport_df.loc[airport_order, \"latitude\"] = lat_lon_el[:,0]\n",
    "airport_df.loc[airport_order, \"longitude\"] = lat_lon_el[:,1]\n",
    "airport_df.loc[airport_order, \"elevation\"] = lat_lon_el[:,2]\n",
    "\n",
    "# number of runways\n",
    "n_runways = runway_df.loc[\n",
    "    runway_df.airport_ident.isin(airport_df.index), \n",
    "    \"airport_ident\"\n",
    "].value_counts().to_dict()\n",
    "airport_df.loc[n_runways.keys(), \"nRunways\"] = list(n_runways.values())\n",
    "\n",
    "# number of incoming and outgoing flights\n",
    "G = nx.DiGraph()\n",
    "airport_df[\"nIn\"] = 0\n",
    "airport_df[\"nOut\"] = 0\n",
    "dep_des_ws = cha_df[[\"adep\", \"ades\"]].value_counts().to_dict()\n",
    "for dep_des_w in dep_des_ws:\n",
    "    (u, v), w = dep_des_w, dep_des_ws[dep_des_w]\n",
    "    G.add_edge(u, v, weight=w, weight_inv=1/w)\n",
    "    airport_df.loc[u, \"nOut\"] += w\n",
    "    airport_df.loc[v, \"nIn\"] += w\n",
    "    \n",
    "components = sorted(\n",
    "    [component for component in nx.components.weakly_connected_components(G)],\n",
    "    key = lambda comp: len(comp)\n",
    ")[::-1]\n",
    "lwc_component = components[0]\n",
    "G = G.subgraph(lwc_component)\n",
    "\n",
    "# centrality measures\n",
    "\n",
    "airport_df.loc[list(G.nodes), \"inDegree\"] = list(nx.in_degree_centrality(G).values())\n",
    "airport_df.loc[list(G.nodes), \"outDegree\"] = list(nx.out_degree_centrality(G).values())\n",
    "airport_df.loc[list(G.nodes), \"pageRank\"] = list(nx.pagerank(G, weight=\"weight\").values())\n",
    "airport_df.loc[list(G.nodes), \"load\"] = list(nx.load_centrality(G, weight=\"weight\").values())\n",
    "airport_df.loc[list(G.nodes), \"betweenness\"] = list(nx.betweenness_centrality(G, weight=\"weight\").values())\n",
    "airport_df.loc[list(G.nodes), \"eigenvector\"] = list(nx.eigenvector_centrality(G, weight=\"weight\").values())\n",
    "airport_df.loc[list(G.nodes), \"percolation\"] = list(nx.percolation_centrality(G, weight=\"weight\").values())\n",
    "airport_df.loc[list(G.nodes), \"harmonic\"] = list(nx.harmonic_centrality(G, distance=\"weight_inv\").values())\n",
    "airport_df.loc[list(G.nodes), \"closeness\"] = list(nx.closeness_centrality(G, distance=\"weight_inv\").values())\n",
    "\n",
    "# renaming columns for traceability\n",
    "airport_df.columns = [\"AIRPORT_\" + column for column in airport_df.columns]\n",
    "joblib.dump(airport_df, \"airport_df.pkl\")"
   ]
  },
  {
   "cell_type": "code",
   "execution_count": 11,
   "metadata": {
    "scrolled": true
   },
   "outputs": [
    {
     "data": {
      "application/vnd.jupyter.widget-view+json": {
       "model_id": "af98870eec8c4434b13d2ae72804f247",
       "version_major": 2,
       "version_minor": 0
      },
      "text/plain": [
       "  0%|          | 0/10000 [00:00<?, ?it/s]"
      ]
     },
     "metadata": {},
     "output_type": "display_data"
    },
    {
     "data": {
      "application/vnd.jupyter.widget-view+json": {
       "model_id": "33a9b1fd2e234ce3a4727a7406391024",
       "version_major": 2,
       "version_minor": 0
      },
      "text/plain": [
       "  0%|          | 0/10000 [00:00<?, ?it/s]"
      ]
     },
     "metadata": {},
     "output_type": "display_data"
    }
   ],
   "source": [
    "# generate flight features\n",
    "n_quantiles_list = [2, 3, 5, 9]\n",
    "\n",
    "# NA not included because == noise\n",
    "possible_phases = [\n",
    "    \"CLIMB\",\n",
    "    \"CRUISE\",\n",
    "    \"DESCENT\",\n",
    "    \"GROUND\",\n",
    "    \"LEVEL\", \n",
    "]\n",
    "# stats to consider\n",
    "stats_columns = [\n",
    "    \"wind_x\", \"wind_y\",\n",
    "    \"track_x\", \"track_y\",\n",
    "    \"heading_x\", \"heading_y\",\n",
    "    \"temperature\", \"specific_humidity\", \n",
    "    \"latitude\", \"longitude\", \"altitude\", \n",
    "    \"groundspeed\", \"TAS\", \"TdG_speed\", \"ToG_speed\", \"vertical_rate\", \n",
    "    \"wind_mag\", \"track_wind_dot\", \"track_heading_dot\", \"heading_wind_dot\",\n",
    "] # no stats for distance because it is equal to groundspeed (scaled) since all elements are 1 second apart\n",
    "flight_ids = [int(file) for file in os.listdir(flights_folder) if \".\" not in file]\n",
    "\n",
    "num_batches = 10000\n",
    "flight_ids_batches = [\n",
    "    flight_ids[i*(len(flight_ids)//num_batches):(i+1)*(len(flight_ids)//num_batches)]\n",
    "    for i in range(num_batches)\n",
    "]\n",
    "if len(flight_ids)%num_batches:\n",
    "    missing_flight_ids = flight_ids[num_batches*(len(flight_ids)//num_batches):]\n",
    "    for i in range(len(missing_flight_ids)):\n",
    "        missing_flight_id = missing_flight_ids[i]\n",
    "        flight_ids_batches[i] = flight_ids_batches[i] + [missing_flight_id]\n",
    "\n",
    "for n_quantiles in n_quantiles_list:\n",
    "    if f\"flight_stats_df_nq={n_quantiles}.pkl\" not in os.listdir(os.getcwd()):\n",
    "        all_flight_stats_df_list = Parallel(n_jobs=16)(\n",
    "            delayed(        \n",
    "                process_flight_stats_batch\n",
    "            )(\n",
    "                n_quantiles=n_quantiles, \n",
    "                stats_columns=stats_columns,\n",
    "                flights_folder=flights_folder,\n",
    "                possible_phases=possible_phases,\n",
    "                flight_ids_batch=flight_ids_batch,\n",
    "            )\n",
    "            for flight_ids_batch in tqdm(flight_ids_batches)\n",
    "        )\n",
    "        flight_stats_df = pd.concat(all_flight_stats_df_list, axis=0)\n",
    "        joblib.dump(flight_stats_df, f\"flight_stats_df_nq={n_quantiles}.pkl\")\n",
    "\n",
    "    else:\n",
    "        flight_stats_df = joblib.load(f\"flight_stats_df_nq={n_quantiles}.pkl\")    "
   ]
  },
  {
   "cell_type": "code",
   "execution_count": 13,
   "metadata": {},
   "outputs": [
    {
     "data": {
      "application/vnd.jupyter.widget-view+json": {
       "model_id": "8767a1a4e1dd43f395f1c7232282f687",
       "version_major": 2,
       "version_minor": 0
      },
      "text/plain": [
       "  0%|          | 0/4 [00:00<?, ?it/s]"
      ]
     },
     "metadata": {},
     "output_type": "display_data"
    }
   ],
   "source": [
    "# merge everything together\n",
    "for n_quantiles in tqdm(n_quantiles_list):\n",
    "    X_y_df = cha_df.copy()\n",
    "    X_y_df.arrival_time = pd.to_datetime(X_y_df.arrival_time)\n",
    "    X_y_df.actual_offblock_time = pd.to_datetime(X_y_df.actual_offblock_time)\n",
    "    \n",
    "    X_y_df[\"arrDayX\"], X_y_df[\"arrDayY\"] = day_cyclic_values(X_y_df.arrival_time)\n",
    "    X_y_df[\"arrWeekX\"], X_y_df[\"arrWeekY\"] = week_cyclic_values(X_y_df.arrival_time)\n",
    "    X_y_df[\"arrMonthX\"], X_y_df[\"arrMonthY\"] = month_cyclic_values(X_y_df.arrival_time)\n",
    "    X_y_df[\"arrYearX\"], X_y_df[\"arrYearY\"] = year_cyclic_values(X_y_df.arrival_time)\n",
    "    \n",
    "    X_y_df[\"depDayX\"], X_y_df[\"depDayY\"] = day_cyclic_values(X_y_df.actual_offblock_time)\n",
    "    X_y_df[\"depWeekX\"], X_y_df[\"depWeekY\"] = week_cyclic_values(X_y_df.actual_offblock_time)\n",
    "    X_y_df[\"depMonthX\"], X_y_df[\"depMonthY\"] = month_cyclic_values(X_y_df.actual_offblock_time)\n",
    "    X_y_df[\"depYearX\"], X_y_df[\"depYearY\"] = year_cyclic_values(X_y_df.actual_offblock_time)\n",
    "    \n",
    "    # add aircraft and airport point features\n",
    "    X_y_df = X_y_df.merge(right=aircraft_df, how=\"left\", left_on=\"aircraft_type\", right_index=True)\n",
    "    X_y_df = X_y_df.merge(right=airport_df, how=\"left\", left_on=\"adep\", right_index=True)\n",
    "    X_y_df = X_y_df.merge(right=airport_df, how=\"left\", left_on=\"ades\", right_index=True, suffixes=(\"_adep\", \"_ades\"))\n",
    "    X_y_df = X_y_df.merge(\n",
    "        right=flight_fuel_df.rename(columns={\n",
    "            \"total_fuel\": \"FUEL_total_consumption\",\n",
    "            \"total_fuel_replace\": \"FUEL_total_consumption_replace\",\n",
    "        }), \n",
    "        how=\"left\", left_on=\"flight_id\", right_on=\"flight_id\"\n",
    "    )\n",
    "    \n",
    "    # Processes the `X_y_df` DataFrame by consolidating less frequent airlines into an \"other\" category, \n",
    "    # and converting the `airline` column into one-hot encoded binary variables. \n",
    "    # This is done to reduce the number of airline categories and prepare the data for analysis or modeling.\n",
    "    airline_value_counts = X_y_df.airline.value_counts(normalize=True)\n",
    "    top_airlines_n = np.argmax(airline_value_counts < (1/len(airline_value_counts)))\n",
    "    arlines_to_discard = airline_value_counts.keys()[top_airlines_n:]\n",
    "    X_y_df.loc[X_y_df.airline.isin(arlines_to_discard).values.astype(bool), \"airline\"] = \"other\"\n",
    "    airline_dummie_df = pd.get_dummies(X_y_df.airline).astype(float)\n",
    "    airline_dummie_df.columns = [\"AIRLINE_airline_\" + column for column in airline_dummie_df.columns]\n",
    "    X_y_df = pd.concat([X_y_df, airline_dummie_df], axis=1)\n",
    "    \n",
    "    aircraft_type_value_counts = X_y_df.aircraft_type.value_counts(normalize=True)\n",
    "    top_aircraft_type_n = np.argmax(aircraft_type_value_counts < (1/len(aircraft_type_value_counts)))\n",
    "    aircraft_type_to_discard = aircraft_type_value_counts.keys()[top_aircraft_type_n:]\n",
    "    X_y_df.loc[X_y_df.aircraft_type.isin(aircraft_type_to_discard).values.astype(bool), \"aircraft_type\"] = \"other\"\n",
    "    aircraft_type_dummie_df = pd.get_dummies(X_y_df.aircraft_type).astype(float)\n",
    "    aircraft_type_dummie_df.columns = [\"AIRCRAFT_aircraft_type_\" + column for column in aircraft_type_dummie_df.columns]\n",
    "    X_y_df = pd.concat([X_y_df, aircraft_type_dummie_df], axis=1)\n",
    "    \n",
    "    X_y_df = X_y_df.drop(columns=[\n",
    "        # \"flight_id\", \"date\", \n",
    "        \"callsign\", \"wtc\", \"airline\", \n",
    "        \"name_adep\", \"country_code_adep\", \n",
    "        \"name_ades\", \"country_code_ades\",\n",
    "        \"actual_offblock_time\", \"arrival_time\",\n",
    "        \"aircraft_type\", \"adep\", \"ades\"\n",
    "    ])\n",
    "    \n",
    "    # generate new airport features based on the difference \n",
    "    # between attribute values of departure and arrival airports\n",
    "    adep_columns = [column for column in X_y_df.columns if \"_adep\" in column]\n",
    "    ades_columns = [column for column in X_y_df.columns if \"_ades\" in column]\n",
    "    for i in range(len(adep_columns)):\n",
    "        adep_column = adep_columns[i]\n",
    "        ades_column = ades_columns[i]\n",
    "        diff_col_name = f\"{adep_column}_diff\"\n",
    "        X_y_df[diff_col_name] = X_y_df[ades_column] - X_y_df[adep_column]    \n",
    "        \n",
    "    X_y_df[\"AIRPORT_airports_distance\"] = calculate_distances(\n",
    "        X_y_df,\n",
    "        lat1_col=\"AIRPORT_latitude_adep\", \n",
    "        lon1_col=\"AIRPORT_longitude_adep\", \n",
    "        lat2_col=\"AIRPORT_latitude_ades\", \n",
    "        lon2_col=\"AIRPORT_longitude_ades\"\n",
    "    )\n",
    "    \n",
    "    # add flight features\n",
    "    flight_stats_df = joblib.load(f\"flight_stats_df_nq={n_quantiles}.pkl\")\n",
    "    X_y_df = X_y_df.merge(right=flight_stats_df, how=\"left\", left_on=\"flight_id\", right_index=True)\n",
    "    \n",
    "    column_order = X_y_df.columns.tolist()\n",
    "    column_order.remove(\"tow\")\n",
    "    column_order += [\"tow\"]\n",
    "    X_y_df = X_y_df[column_order]\n",
    "    # filling nan values\n",
    "    feature_columns = X_y_df.columns[2:-1]\n",
    "    for feature_column in feature_columns:\n",
    "        if X_y_df[feature_column].isna().sum():\n",
    "            min_value = X_y_df[feature_column].min()\n",
    "            max_value = X_y_df[feature_column].max()\n",
    "            feature_range = max_value - min_value\n",
    "            nan_placeholder = min_value - feature_range\n",
    "            X_y_df[feature_column] = X_y_df[feature_column].fillna(nan_placeholder)\n",
    "    \n",
    "    joblib.dump(X_y_df, f\"X_y_df_cha_nq={n_quantiles}_v4.pkl\")"
   ]
  },
  {
   "cell_type": "code",
   "execution_count": 15,
   "metadata": {},
   "outputs": [
    {
     "data": {
      "application/vnd.jupyter.widget-view+json": {
       "model_id": "f8f4a85375e7451ea88348d0aebea287",
       "version_major": 2,
       "version_minor": 0
      },
      "text/plain": [
       "  0%|          | 0/4 [00:00<?, ?it/s]"
      ]
     },
     "metadata": {},
     "output_type": "display_data"
    }
   ],
   "source": [
    "# create corr_dfs for column dropping based on correlation threshold\n",
    "for n_quantiles in tqdm(n_quantiles_list):\n",
    "    if f\"X_y_cha_nq={n_quantiles}_corr_df_v4.pkl\" not in os.listdir(os.getcwd()):\n",
    "        X_y_df = joblib.load(f\"X_y_df_cha_nq={n_quantiles}_v4.pkl\")\n",
    "        feature_columns = X_y_df.columns[2:-1]\n",
    "        cat_features = [\n",
    "            column for column in feature_columns if (\n",
    "                (\"airline_\" in column) or (\"aircraft_type_\" in column)\n",
    "            )\n",
    "        ]\n",
    "        num_features = sorted(\n",
    "            list(set(feature_columns).difference(set(cat_features)))\n",
    "        )\n",
    "        corr_df = X_y_df[num_features].corr()\n",
    "        joblib.dump(corr_df, f\"X_y_cha_nq={n_quantiles}_corr_df_v4.pkl\")"
   ]
  },
  {
   "cell_type": "code",
   "execution_count": null,
   "metadata": {},
   "outputs": [],
   "source": []
  }
 ],
 "metadata": {
  "kernelspec": {
   "display_name": "Python 3",
   "language": "python",
   "name": "python3"
  },
  "language_info": {
   "codemirror_mode": {
    "name": "ipython",
    "version": 3
   },
   "file_extension": ".py",
   "mimetype": "text/x-python",
   "name": "python",
   "nbconvert_exporter": "python",
   "pygments_lexer": "ipython3",
   "version": "3.7.4"
  },
  "widgets": {
   "application/vnd.jupyter.widget-state+json": {
    "state": {
     "01c825e735e2494b9533c32fe6da89cd": {
      "model_module": "@jupyter-widgets/controls",
      "model_module_version": "2.0.0",
      "model_name": "ProgressStyleModel",
      "state": {
       "description_width": ""
      }
     },
     "04b25323c235453da6a3f13ca67e37de": {
      "model_module": "@jupyter-widgets/controls",
      "model_module_version": "2.0.0",
      "model_name": "HTMLModel",
      "state": {
       "layout": "IPY_MODEL_31fa737c501d47a88c8ac26318c676c7",
       "style": "IPY_MODEL_35b93d4a41ae491fb914141e6ee69e2b",
       "value": " 10000/10000 [1:57:01&lt;00:00,  1.51it/s]"
      }
     },
     "04bd841c3aa14bd08b041eaafdd787fc": {
      "model_module": "@jupyter-widgets/controls",
      "model_module_version": "2.0.0",
      "model_name": "ProgressStyleModel",
      "state": {
       "description_width": ""
      }
     },
     "0651808b15094873be0f466c150564bd": {
      "model_module": "@jupyter-widgets/controls",
      "model_module_version": "2.0.0",
      "model_name": "HBoxModel",
      "state": {
       "children": [
        "IPY_MODEL_665ffadcb95c42f1bd08e89a5810674f",
        "IPY_MODEL_297779cfd560415e830a231c849e15e9",
        "IPY_MODEL_daeef180781f486987cbb8ed1628b67e"
       ],
       "layout": "IPY_MODEL_1fb50833c73f413198c42e65f450f227"
      }
     },
     "07d7335deecf427887924493ce8c5480": {
      "model_module": "@jupyter-widgets/base",
      "model_module_version": "2.0.0",
      "model_name": "LayoutModel",
      "state": {}
     },
     "0850b10f5a4a4a058edfb7debb3a9a91": {
      "model_module": "@jupyter-widgets/base",
      "model_module_version": "2.0.0",
      "model_name": "LayoutModel",
      "state": {}
     },
     "100270b6c2494de9958707f50a90364f": {
      "model_module": "@jupyter-widgets/controls",
      "model_module_version": "2.0.0",
      "model_name": "FloatProgressModel",
      "state": {
       "bar_style": "success",
       "layout": "IPY_MODEL_3b12d2c91071463485a8fa2acaf41146",
       "max": 4,
       "style": "IPY_MODEL_ed4e4758c83f4b54b4971caf5fb1a285",
       "value": 4
      }
     },
     "10a94f9159a840d0b8a1bf96b59bf780": {
      "model_module": "@jupyter-widgets/base",
      "model_module_version": "2.0.0",
      "model_name": "LayoutModel",
      "state": {}
     },
     "1362a104054a4eed822aeff46ecab4e4": {
      "model_module": "@jupyter-widgets/controls",
      "model_module_version": "2.0.0",
      "model_name": "FloatProgressModel",
      "state": {
       "layout": "IPY_MODEL_44cd12d013ec428991e943e38ada0d0a",
       "max": 10000,
       "style": "IPY_MODEL_04bd841c3aa14bd08b041eaafdd787fc",
       "value": 72
      }
     },
     "14e30fd7a54c4d74a7b74eb697d09c47": {
      "model_module": "@jupyter-widgets/controls",
      "model_module_version": "2.0.0",
      "model_name": "HTMLStyleModel",
      "state": {
       "description_width": "",
       "font_size": null,
       "text_color": null
      }
     },
     "1fb50833c73f413198c42e65f450f227": {
      "model_module": "@jupyter-widgets/base",
      "model_module_version": "2.0.0",
      "model_name": "LayoutModel",
      "state": {}
     },
     "20f99f0d02ca4217bc67cb847598430a": {
      "model_module": "@jupyter-widgets/controls",
      "model_module_version": "2.0.0",
      "model_name": "HBoxModel",
      "state": {
       "children": [
        "IPY_MODEL_3a368919bd2b48fba65337937c8dbedd",
        "IPY_MODEL_3540da267ac046d9a6babdbde6ed7748",
        "IPY_MODEL_ed307ca651ba49908e98ca91915495a8"
       ],
       "layout": "IPY_MODEL_10a94f9159a840d0b8a1bf96b59bf780"
      }
     },
     "215a90b1ee96435a9701c92db1cfc4e5": {
      "model_module": "@jupyter-widgets/controls",
      "model_module_version": "2.0.0",
      "model_name": "HTMLStyleModel",
      "state": {
       "description_width": "",
       "font_size": null,
       "text_color": null
      }
     },
     "221f0e874ba64a308a746b5cb915e4cc": {
      "model_module": "@jupyter-widgets/base",
      "model_module_version": "2.0.0",
      "model_name": "LayoutModel",
      "state": {}
     },
     "240457d4ce724a7fa3d11a310cc29050": {
      "model_module": "@jupyter-widgets/controls",
      "model_module_version": "2.0.0",
      "model_name": "HBoxModel",
      "state": {
       "children": [
        "IPY_MODEL_cd70cfeaedbb4f85bbdf8d0f2e7ae8bd",
        "IPY_MODEL_332f7997b6874b4b9b75d5d9be9d1271",
        "IPY_MODEL_fa3f5b4fadcf4e2dbfac003412374e22"
       ],
       "layout": "IPY_MODEL_3322551bf2694d13bdf2e7168cf193e1"
      }
     },
     "242a350469dc47c8b3de91f980d26ad6": {
      "model_module": "@jupyter-widgets/controls",
      "model_module_version": "2.0.0",
      "model_name": "HBoxModel",
      "state": {
       "children": [
        "IPY_MODEL_9d8353098baa438baccf2e2edc8f7ad6",
        "IPY_MODEL_a5b710b4676040e0ab3c58385fb5cf1f",
        "IPY_MODEL_954ad6fd49d9440c97d4304a92fb2627"
       ],
       "layout": "IPY_MODEL_f0c828af52b84d3e90603d4e0afc19df"
      }
     },
     "259598d4a8cf4bbe9f1d774d8d614539": {
      "model_module": "@jupyter-widgets/controls",
      "model_module_version": "2.0.0",
      "model_name": "HTMLStyleModel",
      "state": {
       "description_width": "",
       "font_size": null,
       "text_color": null
      }
     },
     "266904ed6c134097a6c1217b61d206a7": {
      "model_module": "@jupyter-widgets/base",
      "model_module_version": "2.0.0",
      "model_name": "LayoutModel",
      "state": {}
     },
     "2917167475d4441ea044d4e107b2d36f": {
      "model_module": "@jupyter-widgets/controls",
      "model_module_version": "2.0.0",
      "model_name": "HTMLModel",
      "state": {
       "layout": "IPY_MODEL_505439e4252a4624beacb48f8cdbc5a2",
       "style": "IPY_MODEL_47c17c0291944195a02d25e0fff1aae3",
       "value": "  1%"
      }
     },
     "297779cfd560415e830a231c849e15e9": {
      "model_module": "@jupyter-widgets/controls",
      "model_module_version": "2.0.0",
      "model_name": "FloatProgressModel",
      "state": {
       "bar_style": "danger",
       "layout": "IPY_MODEL_44ac2a5b646c479081c5ea8d337c007a",
       "max": 4,
       "style": "IPY_MODEL_f3b9ea8ee8944cb99956496e6d27ff97"
      }
     },
     "2aa73b58e2d4490598652c2818d118f7": {
      "model_module": "@jupyter-widgets/controls",
      "model_module_version": "2.0.0",
      "model_name": "HTMLStyleModel",
      "state": {
       "description_width": "",
       "font_size": null,
       "text_color": null
      }
     },
     "317eaf21f0ad4f43b624de2be3b25e71": {
      "model_module": "@jupyter-widgets/base",
      "model_module_version": "2.0.0",
      "model_name": "LayoutModel",
      "state": {}
     },
     "31fa737c501d47a88c8ac26318c676c7": {
      "model_module": "@jupyter-widgets/base",
      "model_module_version": "2.0.0",
      "model_name": "LayoutModel",
      "state": {}
     },
     "3322551bf2694d13bdf2e7168cf193e1": {
      "model_module": "@jupyter-widgets/base",
      "model_module_version": "2.0.0",
      "model_name": "LayoutModel",
      "state": {}
     },
     "332f7997b6874b4b9b75d5d9be9d1271": {
      "model_module": "@jupyter-widgets/controls",
      "model_module_version": "2.0.0",
      "model_name": "FloatProgressModel",
      "state": {
       "layout": "IPY_MODEL_492d5ecc80194720957b8fa7dc8fe925",
       "max": 10000,
       "style": "IPY_MODEL_01c825e735e2494b9533c32fe6da89cd",
       "value": 24
      }
     },
     "3365b52a7dc0482cbb94e0c95bb55593": {
      "model_module": "@jupyter-widgets/controls",
      "model_module_version": "2.0.0",
      "model_name": "HTMLModel",
      "state": {
       "layout": "IPY_MODEL_e8eac5fd327c4dd2b6635ba8a46a41a8",
       "style": "IPY_MODEL_358a59172aaa443c80a77e793342250c",
       "value": " 4/4 [2:09:40&lt;00:00, 2647.39s/it]"
      }
     },
     "33a9b1fd2e234ce3a4727a7406391024": {
      "model_module": "@jupyter-widgets/controls",
      "model_module_version": "2.0.0",
      "model_name": "HBoxModel",
      "state": {
       "children": [
        "IPY_MODEL_72c4989c09854e1c9cef48f2421bb8d6",
        "IPY_MODEL_4586b49be6074cf9968ccbd72aa9b5d9",
        "IPY_MODEL_04b25323c235453da6a3f13ca67e37de"
       ],
       "layout": "IPY_MODEL_765e3055945c47bbba3220c3711b19e7"
      }
     },
     "3540da267ac046d9a6babdbde6ed7748": {
      "model_module": "@jupyter-widgets/controls",
      "model_module_version": "2.0.0",
      "model_name": "FloatProgressModel",
      "state": {
       "layout": "IPY_MODEL_a90b80122d5b4c8bb6cf81fedec860d4",
       "max": 10000,
       "style": "IPY_MODEL_92f68e3b99ea4746afc2be0e10ed54d5",
       "value": 150
      }
     },
     "358a59172aaa443c80a77e793342250c": {
      "model_module": "@jupyter-widgets/controls",
      "model_module_version": "2.0.0",
      "model_name": "HTMLStyleModel",
      "state": {
       "description_width": "",
       "font_size": null,
       "text_color": null
      }
     },
     "35b93d4a41ae491fb914141e6ee69e2b": {
      "model_module": "@jupyter-widgets/controls",
      "model_module_version": "2.0.0",
      "model_name": "HTMLStyleModel",
      "state": {
       "description_width": "",
       "font_size": null,
       "text_color": null
      }
     },
     "3a368919bd2b48fba65337937c8dbedd": {
      "model_module": "@jupyter-widgets/controls",
      "model_module_version": "2.0.0",
      "model_name": "HTMLModel",
      "state": {
       "layout": "IPY_MODEL_83a2a53a5cbd4a7aacae33aabed401fd",
       "style": "IPY_MODEL_81a8dfad132b44f09ecfff92d0e2241d",
       "value": "  2%"
      }
     },
     "3b12d2c91071463485a8fa2acaf41146": {
      "model_module": "@jupyter-widgets/base",
      "model_module_version": "2.0.0",
      "model_name": "LayoutModel",
      "state": {}
     },
     "42aee9cfa1274593942efe5976007d22": {
      "model_module": "@jupyter-widgets/base",
      "model_module_version": "2.0.0",
      "model_name": "LayoutModel",
      "state": {}
     },
     "43717387a0964b9ba76e0dbad2899d8a": {
      "model_module": "@jupyter-widgets/controls",
      "model_module_version": "2.0.0",
      "model_name": "ProgressStyleModel",
      "state": {
       "description_width": ""
      }
     },
     "442d7eff73024259b5a657b5048a6828": {
      "model_module": "@jupyter-widgets/controls",
      "model_module_version": "2.0.0",
      "model_name": "FloatProgressModel",
      "state": {
       "bar_style": "success",
       "layout": "IPY_MODEL_eb61ed8dd6b04b62938ecf6386778838",
       "max": 4,
       "style": "IPY_MODEL_f186509436be4dadb7ca756625c3617c",
       "value": 4
      }
     },
     "44ac2a5b646c479081c5ea8d337c007a": {
      "model_module": "@jupyter-widgets/base",
      "model_module_version": "2.0.0",
      "model_name": "LayoutModel",
      "state": {}
     },
     "44cd12d013ec428991e943e38ada0d0a": {
      "model_module": "@jupyter-widgets/base",
      "model_module_version": "2.0.0",
      "model_name": "LayoutModel",
      "state": {}
     },
     "4586b49be6074cf9968ccbd72aa9b5d9": {
      "model_module": "@jupyter-widgets/controls",
      "model_module_version": "2.0.0",
      "model_name": "FloatProgressModel",
      "state": {
       "bar_style": "success",
       "layout": "IPY_MODEL_221f0e874ba64a308a746b5cb915e4cc",
       "max": 10000,
       "style": "IPY_MODEL_56fcf3ed1b754e97911b5fcf7ad82e08",
       "value": 10000
      }
     },
     "47c17c0291944195a02d25e0fff1aae3": {
      "model_module": "@jupyter-widgets/controls",
      "model_module_version": "2.0.0",
      "model_name": "HTMLStyleModel",
      "state": {
       "description_width": "",
       "font_size": null,
       "text_color": null
      }
     },
     "492d5ecc80194720957b8fa7dc8fe925": {
      "model_module": "@jupyter-widgets/base",
      "model_module_version": "2.0.0",
      "model_name": "LayoutModel",
      "state": {}
     },
     "49c1b2a7df654b8b9a9b73c59d266427": {
      "model_module": "@jupyter-widgets/controls",
      "model_module_version": "2.0.0",
      "model_name": "HTMLStyleModel",
      "state": {
       "description_width": "",
       "font_size": null,
       "text_color": null
      }
     },
     "4b4b6b99c21947439e3a97a8ded0a816": {
      "model_module": "@jupyter-widgets/controls",
      "model_module_version": "2.0.0",
      "model_name": "HTMLModel",
      "state": {
       "layout": "IPY_MODEL_99508e58c27243d48e55a1860ec98432",
       "style": "IPY_MODEL_259598d4a8cf4bbe9f1d774d8d614539",
       "value": " 72/10000 [00:29&lt;1:13:57,  2.24it/s]"
      }
     },
     "4e9b5b6e9c354b0f940ed831c53f5fb3": {
      "model_module": "@jupyter-widgets/controls",
      "model_module_version": "2.0.0",
      "model_name": "HTMLStyleModel",
      "state": {
       "description_width": "",
       "font_size": null,
       "text_color": null
      }
     },
     "505439e4252a4624beacb48f8cdbc5a2": {
      "model_module": "@jupyter-widgets/base",
      "model_module_version": "2.0.0",
      "model_name": "LayoutModel",
      "state": {}
     },
     "56fcf3ed1b754e97911b5fcf7ad82e08": {
      "model_module": "@jupyter-widgets/controls",
      "model_module_version": "2.0.0",
      "model_name": "ProgressStyleModel",
      "state": {
       "description_width": ""
      }
     },
     "58e49148ecf4424b83dad5f50c8ccfe9": {
      "model_module": "@jupyter-widgets/controls",
      "model_module_version": "2.0.0",
      "model_name": "HTMLStyleModel",
      "state": {
       "description_width": "",
       "font_size": null,
       "text_color": null
      }
     },
     "599f882685624bdabc29605afe1dd194": {
      "model_module": "@jupyter-widgets/base",
      "model_module_version": "2.0.0",
      "model_name": "LayoutModel",
      "state": {}
     },
     "5c9199e8f22948a9a0634da178f72b22": {
      "model_module": "@jupyter-widgets/controls",
      "model_module_version": "2.0.0",
      "model_name": "ProgressStyleModel",
      "state": {
       "description_width": ""
      }
     },
     "5e12a94fff2c41c5be90b511e3b3c77f": {
      "model_module": "@jupyter-widgets/controls",
      "model_module_version": "2.0.0",
      "model_name": "HBoxModel",
      "state": {
       "children": [
        "IPY_MODEL_2917167475d4441ea044d4e107b2d36f",
        "IPY_MODEL_1362a104054a4eed822aeff46ecab4e4",
        "IPY_MODEL_4b4b6b99c21947439e3a97a8ded0a816"
       ],
       "layout": "IPY_MODEL_599f882685624bdabc29605afe1dd194"
      }
     },
     "665ffadcb95c42f1bd08e89a5810674f": {
      "model_module": "@jupyter-widgets/controls",
      "model_module_version": "2.0.0",
      "model_name": "HTMLModel",
      "state": {
       "layout": "IPY_MODEL_266904ed6c134097a6c1217b61d206a7",
       "style": "IPY_MODEL_2aa73b58e2d4490598652c2818d118f7",
       "value": "  0%"
      }
     },
     "6cdc98dc288b4476a5df674266b14921": {
      "model_module": "@jupyter-widgets/controls",
      "model_module_version": "2.0.0",
      "model_name": "HTMLModel",
      "state": {
       "layout": "IPY_MODEL_ab0902ba966446e2b5ac3e9a4e057cea",
       "style": "IPY_MODEL_49c1b2a7df654b8b9a9b73c59d266427",
       "value": "100%"
      }
     },
     "72c4989c09854e1c9cef48f2421bb8d6": {
      "model_module": "@jupyter-widgets/controls",
      "model_module_version": "2.0.0",
      "model_name": "HTMLModel",
      "state": {
       "layout": "IPY_MODEL_849e6a7b6fc149a49cf1c7b2cf0bb048",
       "style": "IPY_MODEL_14e30fd7a54c4d74a7b74eb697d09c47",
       "value": "100%"
      }
     },
     "765e3055945c47bbba3220c3711b19e7": {
      "model_module": "@jupyter-widgets/base",
      "model_module_version": "2.0.0",
      "model_name": "LayoutModel",
      "state": {}
     },
     "76f98df6eda44e8b93f675d0ce6222c4": {
      "model_module": "@jupyter-widgets/controls",
      "model_module_version": "2.0.0",
      "model_name": "HTMLStyleModel",
      "state": {
       "description_width": "",
       "font_size": null,
       "text_color": null
      }
     },
     "7718e8403f58494a8ab18d1ddba71233": {
      "model_module": "@jupyter-widgets/controls",
      "model_module_version": "2.0.0",
      "model_name": "HTMLModel",
      "state": {
       "layout": "IPY_MODEL_c54228455551458197439f6791f86431",
       "style": "IPY_MODEL_7989ed14b2ea4e7f9313a581017867ee",
       "value": "100%"
      }
     },
     "7989ed14b2ea4e7f9313a581017867ee": {
      "model_module": "@jupyter-widgets/controls",
      "model_module_version": "2.0.0",
      "model_name": "HTMLStyleModel",
      "state": {
       "description_width": "",
       "font_size": null,
       "text_color": null
      }
     },
     "7d4742d04d114df8a5c695ab124c8aee": {
      "model_module": "@jupyter-widgets/controls",
      "model_module_version": "2.0.0",
      "model_name": "HTMLStyleModel",
      "state": {
       "description_width": "",
       "font_size": null,
       "text_color": null
      }
     },
     "80f159d25db74981a4e084cc42707d82": {
      "model_module": "@jupyter-widgets/controls",
      "model_module_version": "2.0.0",
      "model_name": "HBoxModel",
      "state": {
       "children": [
        "IPY_MODEL_b1601d72948949a6b2c2f24682f230d6",
        "IPY_MODEL_90f8757cc71a43379f376e14b068a7d8",
        "IPY_MODEL_ff8312c18e1d452bb60ccb0ecd2895e6"
       ],
       "layout": "IPY_MODEL_ec31c92fad8d4ae8aec469f6c15e0401"
      }
     },
     "81a8dfad132b44f09ecfff92d0e2241d": {
      "model_module": "@jupyter-widgets/controls",
      "model_module_version": "2.0.0",
      "model_name": "HTMLStyleModel",
      "state": {
       "description_width": "",
       "font_size": null,
       "text_color": null
      }
     },
     "8326a605558e4ad087109724f16822b0": {
      "model_module": "@jupyter-widgets/base",
      "model_module_version": "2.0.0",
      "model_name": "LayoutModel",
      "state": {}
     },
     "83a2a53a5cbd4a7aacae33aabed401fd": {
      "model_module": "@jupyter-widgets/base",
      "model_module_version": "2.0.0",
      "model_name": "LayoutModel",
      "state": {}
     },
     "849e6a7b6fc149a49cf1c7b2cf0bb048": {
      "model_module": "@jupyter-widgets/base",
      "model_module_version": "2.0.0",
      "model_name": "LayoutModel",
      "state": {}
     },
     "8767a1a4e1dd43f395f1c7232282f687": {
      "model_module": "@jupyter-widgets/controls",
      "model_module_version": "2.0.0",
      "model_name": "HBoxModel",
      "state": {
       "children": [
        "IPY_MODEL_7718e8403f58494a8ab18d1ddba71233",
        "IPY_MODEL_442d7eff73024259b5a657b5048a6828",
        "IPY_MODEL_cf92f2b977a74e19a919de0528f81a98"
       ],
       "layout": "IPY_MODEL_bbeebd54460d40ddaff72e4b84ba0eaa"
      }
     },
     "8f4239f474dd47c3b69cd8b9abf23aa4": {
      "model_module": "@jupyter-widgets/base",
      "model_module_version": "2.0.0",
      "model_name": "LayoutModel",
      "state": {}
     },
     "90f8757cc71a43379f376e14b068a7d8": {
      "model_module": "@jupyter-widgets/controls",
      "model_module_version": "2.0.0",
      "model_name": "FloatProgressModel",
      "state": {
       "layout": "IPY_MODEL_317eaf21f0ad4f43b624de2be3b25e71",
       "max": 10000,
       "style": "IPY_MODEL_43717387a0964b9ba76e0dbad2899d8a",
       "value": 544
      }
     },
     "92f68e3b99ea4746afc2be0e10ed54d5": {
      "model_module": "@jupyter-widgets/controls",
      "model_module_version": "2.0.0",
      "model_name": "ProgressStyleModel",
      "state": {
       "description_width": ""
      }
     },
     "954ad6fd49d9440c97d4304a92fb2627": {
      "model_module": "@jupyter-widgets/controls",
      "model_module_version": "2.0.0",
      "model_name": "HTMLModel",
      "state": {
       "layout": "IPY_MODEL_eeda10cbe76c4c04bc801a06db09970e",
       "style": "IPY_MODEL_215a90b1ee96435a9701c92db1cfc4e5",
       "value": " 0/4 [00:00&lt;?, ?it/s]"
      }
     },
     "9718cbc701a04dac98bd6db700fa2bff": {
      "model_module": "@jupyter-widgets/base",
      "model_module_version": "2.0.0",
      "model_name": "LayoutModel",
      "state": {}
     },
     "99508e58c27243d48e55a1860ec98432": {
      "model_module": "@jupyter-widgets/base",
      "model_module_version": "2.0.0",
      "model_name": "LayoutModel",
      "state": {}
     },
     "9aa2d240974149d280af1cef39859014": {
      "model_module": "@jupyter-widgets/controls",
      "model_module_version": "2.0.0",
      "model_name": "HTMLStyleModel",
      "state": {
       "description_width": "",
       "font_size": null,
       "text_color": null
      }
     },
     "9d8353098baa438baccf2e2edc8f7ad6": {
      "model_module": "@jupyter-widgets/controls",
      "model_module_version": "2.0.0",
      "model_name": "HTMLModel",
      "state": {
       "layout": "IPY_MODEL_0850b10f5a4a4a058edfb7debb3a9a91",
       "style": "IPY_MODEL_4e9b5b6e9c354b0f940ed831c53f5fb3",
       "value": "  0%"
      }
     },
     "a45b217ddb82463bb02693719210a5e3": {
      "model_module": "@jupyter-widgets/base",
      "model_module_version": "2.0.0",
      "model_name": "LayoutModel",
      "state": {}
     },
     "a4a01dbb3e144dd492be3a2b6cc96d7e": {
      "model_module": "@jupyter-widgets/controls",
      "model_module_version": "2.0.0",
      "model_name": "HTMLStyleModel",
      "state": {
       "description_width": "",
       "font_size": null,
       "text_color": null
      }
     },
     "a5b710b4676040e0ab3c58385fb5cf1f": {
      "model_module": "@jupyter-widgets/controls",
      "model_module_version": "2.0.0",
      "model_name": "FloatProgressModel",
      "state": {
       "bar_style": "danger",
       "layout": "IPY_MODEL_07d7335deecf427887924493ce8c5480",
       "max": 4,
       "style": "IPY_MODEL_bf48ce5968954803a6024d535e939e11"
      }
     },
     "a642012a1204448f831f5406631e0be6": {
      "model_module": "@jupyter-widgets/controls",
      "model_module_version": "2.0.0",
      "model_name": "FloatProgressModel",
      "state": {
       "bar_style": "success",
       "layout": "IPY_MODEL_b54ffb1c200a4d8fb0a08030caa988b1",
       "max": 10000,
       "style": "IPY_MODEL_5c9199e8f22948a9a0634da178f72b22",
       "value": 10000
      }
     },
     "a90b80122d5b4c8bb6cf81fedec860d4": {
      "model_module": "@jupyter-widgets/base",
      "model_module_version": "2.0.0",
      "model_name": "LayoutModel",
      "state": {}
     },
     "ab0902ba966446e2b5ac3e9a4e057cea": {
      "model_module": "@jupyter-widgets/base",
      "model_module_version": "2.0.0",
      "model_name": "LayoutModel",
      "state": {}
     },
     "ae55753bda4e47fdb4674b4925c534d1": {
      "model_module": "@jupyter-widgets/base",
      "model_module_version": "2.0.0",
      "model_name": "LayoutModel",
      "state": {}
     },
     "af98870eec8c4434b13d2ae72804f247": {
      "model_module": "@jupyter-widgets/controls",
      "model_module_version": "2.0.0",
      "model_name": "HBoxModel",
      "state": {
       "children": [
        "IPY_MODEL_6cdc98dc288b4476a5df674266b14921",
        "IPY_MODEL_a642012a1204448f831f5406631e0be6",
        "IPY_MODEL_cf03d078298c4fb1aa6739302b50fd53"
       ],
       "layout": "IPY_MODEL_fb4ddd34fc2b4dcc9ec48f08daae1087"
      }
     },
     "b1601d72948949a6b2c2f24682f230d6": {
      "model_module": "@jupyter-widgets/controls",
      "model_module_version": "2.0.0",
      "model_name": "HTMLModel",
      "state": {
       "layout": "IPY_MODEL_dc917e1efd9d4a39af3a018a85205951",
       "style": "IPY_MODEL_fe3e6bd2eee14e08b5195d02aa701286",
       "value": "  5%"
      }
     },
     "b54ffb1c200a4d8fb0a08030caa988b1": {
      "model_module": "@jupyter-widgets/base",
      "model_module_version": "2.0.0",
      "model_name": "LayoutModel",
      "state": {}
     },
     "b85ef5f513dc43049732a25e7d96c83b": {
      "model_module": "@jupyter-widgets/controls",
      "model_module_version": "2.0.0",
      "model_name": "HTMLStyleModel",
      "state": {
       "description_width": "",
       "font_size": null,
       "text_color": null
      }
     },
     "bbeebd54460d40ddaff72e4b84ba0eaa": {
      "model_module": "@jupyter-widgets/base",
      "model_module_version": "2.0.0",
      "model_name": "LayoutModel",
      "state": {}
     },
     "be9d9f6f77194c7391abf24b8d342e88": {
      "model_module": "@jupyter-widgets/base",
      "model_module_version": "2.0.0",
      "model_name": "LayoutModel",
      "state": {}
     },
     "bf48ce5968954803a6024d535e939e11": {
      "model_module": "@jupyter-widgets/controls",
      "model_module_version": "2.0.0",
      "model_name": "ProgressStyleModel",
      "state": {
       "description_width": ""
      }
     },
     "c54228455551458197439f6791f86431": {
      "model_module": "@jupyter-widgets/base",
      "model_module_version": "2.0.0",
      "model_name": "LayoutModel",
      "state": {}
     },
     "c650ddaf19f646b8af35449274a0196b": {
      "model_module": "@jupyter-widgets/controls",
      "model_module_version": "2.0.0",
      "model_name": "HTMLStyleModel",
      "state": {
       "description_width": "",
       "font_size": null,
       "text_color": null
      }
     },
     "cd70cfeaedbb4f85bbdf8d0f2e7ae8bd": {
      "model_module": "@jupyter-widgets/controls",
      "model_module_version": "2.0.0",
      "model_name": "HTMLModel",
      "state": {
       "layout": "IPY_MODEL_8f4239f474dd47c3b69cd8b9abf23aa4",
       "style": "IPY_MODEL_9aa2d240974149d280af1cef39859014",
       "value": "  0%"
      }
     },
     "cf03d078298c4fb1aa6739302b50fd53": {
      "model_module": "@jupyter-widgets/controls",
      "model_module_version": "2.0.0",
      "model_name": "HTMLModel",
      "state": {
       "layout": "IPY_MODEL_a45b217ddb82463bb02693719210a5e3",
       "style": "IPY_MODEL_fe5bad632f2a4d4cac4da382d9dd6e9a",
       "value": " 10000/10000 [1:11:03&lt;00:00,  2.53it/s]"
      }
     },
     "cf92f2b977a74e19a919de0528f81a98": {
      "model_module": "@jupyter-widgets/controls",
      "model_module_version": "2.0.0",
      "model_name": "HTMLModel",
      "state": {
       "layout": "IPY_MODEL_f24683c40b424ec2b68536c12972cbab",
       "style": "IPY_MODEL_a4a01dbb3e144dd492be3a2b6cc96d7e",
       "value": " 4/4 [02:16&lt;00:00, 44.07s/it]"
      }
     },
     "d0c8359736e54aac82aaea753922bc7d": {
      "model_module": "@jupyter-widgets/controls",
      "model_module_version": "2.0.0",
      "model_name": "HTMLModel",
      "state": {
       "layout": "IPY_MODEL_f9ce4e18acd642468fd43e153c2122f6",
       "style": "IPY_MODEL_7d4742d04d114df8a5c695ab124c8aee",
       "value": "100%"
      }
     },
     "daeef180781f486987cbb8ed1628b67e": {
      "model_module": "@jupyter-widgets/controls",
      "model_module_version": "2.0.0",
      "model_name": "HTMLModel",
      "state": {
       "layout": "IPY_MODEL_9718cbc701a04dac98bd6db700fa2bff",
       "style": "IPY_MODEL_c650ddaf19f646b8af35449274a0196b",
       "value": " 0/4 [00:00&lt;?, ?it/s]"
      }
     },
     "dc917e1efd9d4a39af3a018a85205951": {
      "model_module": "@jupyter-widgets/base",
      "model_module_version": "2.0.0",
      "model_name": "LayoutModel",
      "state": {}
     },
     "e8eac5fd327c4dd2b6635ba8a46a41a8": {
      "model_module": "@jupyter-widgets/base",
      "model_module_version": "2.0.0",
      "model_name": "LayoutModel",
      "state": {}
     },
     "eb61ed8dd6b04b62938ecf6386778838": {
      "model_module": "@jupyter-widgets/base",
      "model_module_version": "2.0.0",
      "model_name": "LayoutModel",
      "state": {}
     },
     "ec31c92fad8d4ae8aec469f6c15e0401": {
      "model_module": "@jupyter-widgets/base",
      "model_module_version": "2.0.0",
      "model_name": "LayoutModel",
      "state": {}
     },
     "ed307ca651ba49908e98ca91915495a8": {
      "model_module": "@jupyter-widgets/controls",
      "model_module_version": "2.0.0",
      "model_name": "HTMLModel",
      "state": {
       "layout": "IPY_MODEL_ae55753bda4e47fdb4674b4925c534d1",
       "style": "IPY_MODEL_76f98df6eda44e8b93f675d0ce6222c4",
       "value": " 150/10000 [00:52&lt;46:40,  3.52it/s]"
      }
     },
     "ed4e4758c83f4b54b4971caf5fb1a285": {
      "model_module": "@jupyter-widgets/controls",
      "model_module_version": "2.0.0",
      "model_name": "ProgressStyleModel",
      "state": {
       "description_width": ""
      }
     },
     "eeda10cbe76c4c04bc801a06db09970e": {
      "model_module": "@jupyter-widgets/base",
      "model_module_version": "2.0.0",
      "model_name": "LayoutModel",
      "state": {}
     },
     "f0c828af52b84d3e90603d4e0afc19df": {
      "model_module": "@jupyter-widgets/base",
      "model_module_version": "2.0.0",
      "model_name": "LayoutModel",
      "state": {}
     },
     "f186509436be4dadb7ca756625c3617c": {
      "model_module": "@jupyter-widgets/controls",
      "model_module_version": "2.0.0",
      "model_name": "ProgressStyleModel",
      "state": {
       "description_width": ""
      }
     },
     "f24683c40b424ec2b68536c12972cbab": {
      "model_module": "@jupyter-widgets/base",
      "model_module_version": "2.0.0",
      "model_name": "LayoutModel",
      "state": {}
     },
     "f3b9ea8ee8944cb99956496e6d27ff97": {
      "model_module": "@jupyter-widgets/controls",
      "model_module_version": "2.0.0",
      "model_name": "ProgressStyleModel",
      "state": {
       "description_width": ""
      }
     },
     "f8f4a85375e7451ea88348d0aebea287": {
      "model_module": "@jupyter-widgets/controls",
      "model_module_version": "2.0.0",
      "model_name": "HBoxModel",
      "state": {
       "children": [
        "IPY_MODEL_d0c8359736e54aac82aaea753922bc7d",
        "IPY_MODEL_100270b6c2494de9958707f50a90364f",
        "IPY_MODEL_3365b52a7dc0482cbb94e0c95bb55593"
       ],
       "layout": "IPY_MODEL_8326a605558e4ad087109724f16822b0"
      }
     },
     "f9ce4e18acd642468fd43e153c2122f6": {
      "model_module": "@jupyter-widgets/base",
      "model_module_version": "2.0.0",
      "model_name": "LayoutModel",
      "state": {}
     },
     "fa3f5b4fadcf4e2dbfac003412374e22": {
      "model_module": "@jupyter-widgets/controls",
      "model_module_version": "2.0.0",
      "model_name": "HTMLModel",
      "state": {
       "layout": "IPY_MODEL_42aee9cfa1274593942efe5976007d22",
       "style": "IPY_MODEL_b85ef5f513dc43049732a25e7d96c83b",
       "value": " 24/10000 [00:22&lt;2:47:50,  1.01s/it]"
      }
     },
     "fb4ddd34fc2b4dcc9ec48f08daae1087": {
      "model_module": "@jupyter-widgets/base",
      "model_module_version": "2.0.0",
      "model_name": "LayoutModel",
      "state": {}
     },
     "fe3e6bd2eee14e08b5195d02aa701286": {
      "model_module": "@jupyter-widgets/controls",
      "model_module_version": "2.0.0",
      "model_name": "HTMLStyleModel",
      "state": {
       "description_width": "",
       "font_size": null,
       "text_color": null
      }
     },
     "fe5bad632f2a4d4cac4da382d9dd6e9a": {
      "model_module": "@jupyter-widgets/controls",
      "model_module_version": "2.0.0",
      "model_name": "HTMLStyleModel",
      "state": {
       "description_width": "",
       "font_size": null,
       "text_color": null
      }
     },
     "ff8312c18e1d452bb60ccb0ecd2895e6": {
      "model_module": "@jupyter-widgets/controls",
      "model_module_version": "2.0.0",
      "model_name": "HTMLModel",
      "state": {
       "layout": "IPY_MODEL_be9d9f6f77194c7391abf24b8d342e88",
       "style": "IPY_MODEL_58e49148ecf4424b83dad5f50c8ccfe9",
       "value": " 544/10000 [03:48&lt;1:09:16,  2.27it/s]"
      }
     }
    },
    "version_major": 2,
    "version_minor": 0
   }
  }
 },
 "nbformat": 4,
 "nbformat_minor": 5
}
