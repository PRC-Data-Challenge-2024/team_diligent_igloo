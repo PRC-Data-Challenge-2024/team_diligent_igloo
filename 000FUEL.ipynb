{
 "cells": [
  {
   "cell_type": "markdown",
   "metadata": {},
   "source": [
    "# IMPORTANT\n",
    "\n",
    "## This notebook must be run from the <code>acropole</code> conda environment as per https://github.com/DGAC/Acropole\n",
    "\n",
    "## Do NOT install anything else except <code>conda install -c conda-forge tqdm</code>"
   ]
  },
  {
   "cell_type": "code",
   "execution_count": 4,
   "metadata": {},
   "outputs": [],
   "source": [
    "import os\n",
    "import joblib\n",
    "import warnings\n",
    "import numpy as np\n",
    "import pandas as pd\n",
    "from tqdm.notebook import tqdm\n",
    "from copy import deepcopy as copy\n",
    "from acropole import FuelEstimator\n",
    "from joblib import Parallel, delayed\n",
    "\n",
    "warnings.filterwarnings(\"ignore\", message=\".*Aircraft.*\", category=UserWarning)\n",
    "warnings.filterwarnings(\"ignore\", message=\".*A worker stopped .*\", category=UserWarning)\n",
    "\n",
    "data_folder = os.path.join(os.getcwd(), \"data\")\n",
    "flights_folder = os.path.join(os.getcwd(), \"flightDfs\")\n",
    "cha_df = pd.read_csv(os.path.join(data_folder, \"challenge_set.csv\"))\n",
    "final_sub_df = pd.read_csv(os.path.join(data_folder, \"final_submission_set.csv\"))\n",
    "aircraft_df = pd.read_excel(\"FAA-Aircraft-Char-DB-AC-150-5300-13B-App-2023-09-07.xlsx\")\n",
    "acropole_folder = \"../../../Acropole/acropole/data/\"\n",
    "acropole_csv_path = os.path.join(acropole_folder, \"aircraft_params.csv\")\n",
    "acropole_df = pd.read_csv(acropole_csv_path)"
   ]
  },
  {
   "cell_type": "code",
   "execution_count": 10,
   "metadata": {},
   "outputs": [],
   "source": [
    "replace_for_acropole_dict = {}\n",
    "relevant_actypes = set(cha_df.aircraft_type).union(set(final_sub_df.aircraft_type))\n",
    "missing_acropole_aircraft_list = np.array(\n",
    "    sorted(list(relevant_actypes.difference(set(acropole_df.ACFT_ICAO_TYPE))))\n",
    ")\n",
    "for missing_acropole_aircraft in missing_acropole_aircraft_list:\n",
    "    missing_acropole_aircraft = missing_acropole_aircraft.item()\n",
    "    aircraft_row_df = aircraft_df.loc[aircraft_df.ICAO_Code==missing_acropole_aircraft]\n",
    "    for available_acropole_actype in acropole_df.ACFT_ICAO_TYPE:\n",
    "        col_1_similar_bool = aircraft_row_df.Model_FAA.str.contains(available_acropole_actype).item()\n",
    "        col_2_similar_bool = aircraft_row_df.Model_BADA.str.contains(available_acropole_actype).item()\n",
    "        if col_1_similar_bool or col_2_similar_bool:\n",
    "            replace_for_acropole_dict[missing_acropole_aircraft] = available_acropole_actype"
   ]
  },
  {
   "cell_type": "code",
   "execution_count": 14,
   "metadata": {},
   "outputs": [],
   "source": [
    "def process_flight_fuel_batch(flight_ids_batch, replace_for_acropole_dict, meta_flights_df, flights_folder):\n",
    "    flight_fuel_data = []\n",
    "    for flight_id in flight_ids_batch:\n",
    "        flight_df = joblib.load(os.path.join(flights_folder, str(flight_id)))\n",
    "        fuel_df = flight_df[\n",
    "            [\"groundspeed\", \"altitude\", \"vertical_rate\", \"TAS\"]\n",
    "        ].copy()\n",
    "        fuel_df[\"typecode\"] = meta_flights_df.loc[meta_flights_df.flight_id==flight_id, \"aircraft_type\"].item()\n",
    "        fuel_df[\"second\"] = fuel_df.index.values.astype(float)\n",
    "        fuel_df = fuel_df.rename(columns={\"TAS\": \"airspeed\"})\n",
    "\n",
    "        \n",
    "        # without replacing\n",
    "        fe = FuelEstimator()\n",
    "        flight_fuel = fe.estimate(fuel_df, timestamp=\"second\")\n",
    "        total_fuel_kg_1 = flight_fuel.fuel_flow.sum().item()\n",
    "        if total_fuel_kg_1==0:\n",
    "            total_fuel_kg_1 = np.nan\n",
    "            \n",
    "        # with replaciong\n",
    "        fe = FuelEstimator()\n",
    "        fuel_df[\"typecode\"] = fuel_df[\"typecode\"].replace(replace_for_acropole_dict)\n",
    "        flight_fuel = fe.estimate(fuel_df, timestamp=\"second\")\n",
    "        total_fuel_kg_2 = flight_fuel.fuel_flow.sum().item()\n",
    "        if total_fuel_kg_2==0:\n",
    "            total_fuel_kg_2 = np.nan\n",
    "        flight_fuel_data.append(\n",
    "            [\n",
    "                flight_id, total_fuel_kg_1, total_fuel_kg_2\n",
    "            ]\n",
    "        )\n",
    "    flight_fuel_df = pd.DataFrame(\n",
    "        data=flight_fuel_data,\n",
    "        columns=[\"flight_id\", \"total_fuel\", \"total_fuel_replace\"]\n",
    "    )\n",
    "    return flight_fuel_df"
   ]
  },
  {
   "cell_type": "code",
   "execution_count": null,
   "metadata": {},
   "outputs": [],
   "source": [
    "flight_ids = sorted([int(item) for item in os.listdir(flights_folder) if \".\" not in item])\n",
    "\n",
    "num_batches = 1000\n",
    "flight_ids_batches = [\n",
    "    flight_ids[i*(len(flight_ids)//num_batches):(i+1)*(len(flight_ids)//num_batches)]\n",
    "    for i in range(num_batches)\n",
    "]\n",
    "if len(flight_ids)%num_batches:\n",
    "    missing_flight_ids = flight_ids[num_batches*(len(flight_ids)//num_batches):]\n",
    "    for i in range(len(missing_flight_ids)):\n",
    "        missing_flight_id = missing_flight_ids[i]\n",
    "        flight_ids_batches[i] = flight_ids_batches[i] + [missing_flight_id]\n",
    "\n",
    "all_flight_fuel_df_list = Parallel(n_jobs=12)(\n",
    "    delayed(        \n",
    "        process_flight_fuel_batch\n",
    "    )(\n",
    "        flights_folder=copy(flights_folder),\n",
    "        flight_ids_batch=copy(flight_ids_batch), \n",
    "        replace_for_acropole_dict=copy(replace_for_acropole_dict),\n",
    "        meta_flights_df=cha_df.loc[\n",
    "            cha_df.flight_id.isin(flight_ids_batch).values.astype(bool), \n",
    "            [\"flight_id\", \"aircraft_type\"]\n",
    "        ].copy(),\n",
    "    )\n",
    "    for flight_ids_batch in tqdm(flight_ids_batches)\n",
    ")\n",
    "flight_fuel_df = pd.concat(all_flight_fuel_df_list, axis=0)\n",
    "joblib.dump(flight_fuel_df, f\"flight_fuel_df.pkl\")"
   ]
  },
  {
   "cell_type": "code",
   "execution_count": null,
   "metadata": {},
   "outputs": [],
   "source": []
  }
 ],
 "metadata": {
  "kernelspec": {
   "display_name": "Python 3",
   "language": "python",
   "name": "python3"
  },
  "language_info": {
   "codemirror_mode": {
    "name": "ipython",
    "version": 3
   },
   "file_extension": ".py",
   "mimetype": "text/x-python",
   "name": "python",
   "nbconvert_exporter": "python",
   "pygments_lexer": "ipython3",
   "version": "3.7.4"
  },
  "widgets": {
   "application/vnd.jupyter.widget-state+json": {
    "state": {
     "0e428f9edc0643b6abfe29a75c86c15e": {
      "model_module": "@jupyter-widgets/controls",
      "model_module_version": "2.0.0",
      "model_name": "HTMLModel",
      "state": {
       "layout": "IPY_MODEL_5c60ebb01d674060b29b94706a8c9655",
       "style": "IPY_MODEL_88ccc6b806eb4230af5cd531ddae9cc1",
       "value": " 0/1000 [36:09&lt;?, ?it/s]"
      }
     },
     "16028c6bcf634148bb8e927e9fd3650d": {
      "model_module": "@jupyter-widgets/controls",
      "model_module_version": "2.0.0",
      "model_name": "FloatProgressModel",
      "state": {
       "bar_style": "success",
       "layout": "IPY_MODEL_869050240c9944d59cdddb687dbc9d1d",
       "max": 1000,
       "style": "IPY_MODEL_c7853dde25a6420bac8848875a806144",
       "value": 1000
      }
     },
     "22ec411383ad4577911571e7088c308e": {
      "model_module": "@jupyter-widgets/base",
      "model_module_version": "2.0.0",
      "model_name": "LayoutModel",
      "state": {}
     },
     "2a344fb89ed146d2a60c44a89bd27c1e": {
      "model_module": "@jupyter-widgets/base",
      "model_module_version": "2.0.0",
      "model_name": "LayoutModel",
      "state": {}
     },
     "2c45fa3913dc4a599d3147456ea8cb9e": {
      "model_module": "@jupyter-widgets/controls",
      "model_module_version": "2.0.0",
      "model_name": "HTMLStyleModel",
      "state": {
       "description_width": "",
       "font_size": null,
       "text_color": null
      }
     },
     "3c7eaf1b92de4135a89b13d6919d5abc": {
      "model_module": "@jupyter-widgets/controls",
      "model_module_version": "2.0.0",
      "model_name": "HTMLModel",
      "state": {
       "layout": "IPY_MODEL_434868b3c349414a9632b2ef316e8cc2",
       "style": "IPY_MODEL_2c45fa3913dc4a599d3147456ea8cb9e",
       "value": "100%"
      }
     },
     "3e4b478499fe4909a64bed440f603d45": {
      "model_module": "@jupyter-widgets/controls",
      "model_module_version": "2.0.0",
      "model_name": "HBoxModel",
      "state": {
       "children": [
        "IPY_MODEL_91f06a91a478484fa12128424b09e992",
        "IPY_MODEL_df9583c28b574df9980e67fbdcfc32c0",
        "IPY_MODEL_45ed9a90ed3d47d5b4df554fbbfde322"
       ],
       "layout": "IPY_MODEL_fcd18d4c6d3d4f68aacdc7e3d93ddc4d"
      }
     },
     "42b7e5e42ac74a03af96d23bd7a95384": {
      "model_module": "@jupyter-widgets/controls",
      "model_module_version": "2.0.0",
      "model_name": "ProgressStyleModel",
      "state": {
       "description_width": ""
      }
     },
     "434868b3c349414a9632b2ef316e8cc2": {
      "model_module": "@jupyter-widgets/base",
      "model_module_version": "2.0.0",
      "model_name": "LayoutModel",
      "state": {}
     },
     "45ed9a90ed3d47d5b4df554fbbfde322": {
      "model_module": "@jupyter-widgets/controls",
      "model_module_version": "2.0.0",
      "model_name": "HTMLModel",
      "state": {
       "layout": "IPY_MODEL_e9bf5125264b4f3b817a010ce7407328",
       "style": "IPY_MODEL_f7f4ff5c262942f297331ab5f931767c",
       "value": " 12/1000 [00:12&lt;00:11, 83.79it/s]"
      }
     },
     "4965496fe48f493ebd5b787a75b79758": {
      "model_module": "@jupyter-widgets/controls",
      "model_module_version": "2.0.0",
      "model_name": "HTMLStyleModel",
      "state": {
       "description_width": "",
       "font_size": null,
       "text_color": null
      }
     },
     "51fd28402c424c688fcb195bf0bc254d": {
      "model_module": "@jupyter-widgets/controls",
      "model_module_version": "2.0.0",
      "model_name": "FloatProgressModel",
      "state": {
       "bar_style": "danger",
       "layout": "IPY_MODEL_22ec411383ad4577911571e7088c308e",
       "max": 1000,
       "style": "IPY_MODEL_42b7e5e42ac74a03af96d23bd7a95384"
      }
     },
     "526e3cddaf57418ea565af0ea4d37ae0": {
      "model_module": "@jupyter-widgets/controls",
      "model_module_version": "2.0.0",
      "model_name": "HTMLModel",
      "state": {
       "layout": "IPY_MODEL_722b15ba355247e9a9c122a7410fc451",
       "style": "IPY_MODEL_ebe51d8db45c4f339abe41607237a1a2",
       "value": "  0%"
      }
     },
     "5b4364104310404a9301596814b4f270": {
      "model_module": "@jupyter-widgets/controls",
      "model_module_version": "2.0.0",
      "model_name": "HBoxModel",
      "state": {
       "children": [
        "IPY_MODEL_3c7eaf1b92de4135a89b13d6919d5abc",
        "IPY_MODEL_16028c6bcf634148bb8e927e9fd3650d",
        "IPY_MODEL_8c4639eb0263411098a719e2018f93e0"
       ],
       "layout": "IPY_MODEL_abfbef5700a34d0aa8ba2092daabb795"
      }
     },
     "5c60ebb01d674060b29b94706a8c9655": {
      "model_module": "@jupyter-widgets/base",
      "model_module_version": "2.0.0",
      "model_name": "LayoutModel",
      "state": {}
     },
     "633ee87fab844884bd115a252e7082c7": {
      "model_module": "@jupyter-widgets/base",
      "model_module_version": "2.0.0",
      "model_name": "LayoutModel",
      "state": {}
     },
     "722b15ba355247e9a9c122a7410fc451": {
      "model_module": "@jupyter-widgets/base",
      "model_module_version": "2.0.0",
      "model_name": "LayoutModel",
      "state": {}
     },
     "81bd4ce3e10a47ed820e030da30afd4f": {
      "model_module": "@jupyter-widgets/controls",
      "model_module_version": "2.0.0",
      "model_name": "ProgressStyleModel",
      "state": {
       "description_width": ""
      }
     },
     "869050240c9944d59cdddb687dbc9d1d": {
      "model_module": "@jupyter-widgets/base",
      "model_module_version": "2.0.0",
      "model_name": "LayoutModel",
      "state": {}
     },
     "88ccc6b806eb4230af5cd531ddae9cc1": {
      "model_module": "@jupyter-widgets/controls",
      "model_module_version": "2.0.0",
      "model_name": "HTMLStyleModel",
      "state": {
       "description_width": "",
       "font_size": null,
       "text_color": null
      }
     },
     "8c4639eb0263411098a719e2018f93e0": {
      "model_module": "@jupyter-widgets/controls",
      "model_module_version": "2.0.0",
      "model_name": "HTMLModel",
      "state": {
       "layout": "IPY_MODEL_f33d7f04f4354fccac4562ed702b6a6f",
       "style": "IPY_MODEL_b782ac28f3b24aefb5975c00e50004c5",
       "value": " 1000/1000 [39:14&lt;00:00,  2.39s/it]"
      }
     },
     "91f06a91a478484fa12128424b09e992": {
      "model_module": "@jupyter-widgets/controls",
      "model_module_version": "2.0.0",
      "model_name": "HTMLModel",
      "state": {
       "layout": "IPY_MODEL_2a344fb89ed146d2a60c44a89bd27c1e",
       "style": "IPY_MODEL_4965496fe48f493ebd5b787a75b79758",
       "value": "  1%"
      }
     },
     "abfbef5700a34d0aa8ba2092daabb795": {
      "model_module": "@jupyter-widgets/base",
      "model_module_version": "2.0.0",
      "model_name": "LayoutModel",
      "state": {}
     },
     "acf1ec2360844e43b11e481a15e3ee04": {
      "model_module": "@jupyter-widgets/base",
      "model_module_version": "2.0.0",
      "model_name": "LayoutModel",
      "state": {}
     },
     "b782ac28f3b24aefb5975c00e50004c5": {
      "model_module": "@jupyter-widgets/controls",
      "model_module_version": "2.0.0",
      "model_name": "HTMLStyleModel",
      "state": {
       "description_width": "",
       "font_size": null,
       "text_color": null
      }
     },
     "c7853dde25a6420bac8848875a806144": {
      "model_module": "@jupyter-widgets/controls",
      "model_module_version": "2.0.0",
      "model_name": "ProgressStyleModel",
      "state": {
       "description_width": ""
      }
     },
     "d58102522d9740a4b80fbc76f429f033": {
      "model_module": "@jupyter-widgets/controls",
      "model_module_version": "2.0.0",
      "model_name": "HBoxModel",
      "state": {
       "children": [
        "IPY_MODEL_526e3cddaf57418ea565af0ea4d37ae0",
        "IPY_MODEL_51fd28402c424c688fcb195bf0bc254d",
        "IPY_MODEL_0e428f9edc0643b6abfe29a75c86c15e"
       ],
       "layout": "IPY_MODEL_acf1ec2360844e43b11e481a15e3ee04"
      }
     },
     "df9583c28b574df9980e67fbdcfc32c0": {
      "model_module": "@jupyter-widgets/controls",
      "model_module_version": "2.0.0",
      "model_name": "FloatProgressModel",
      "state": {
       "layout": "IPY_MODEL_633ee87fab844884bd115a252e7082c7",
       "max": 1000,
       "style": "IPY_MODEL_81bd4ce3e10a47ed820e030da30afd4f",
       "value": 12
      }
     },
     "e9bf5125264b4f3b817a010ce7407328": {
      "model_module": "@jupyter-widgets/base",
      "model_module_version": "2.0.0",
      "model_name": "LayoutModel",
      "state": {}
     },
     "ebe51d8db45c4f339abe41607237a1a2": {
      "model_module": "@jupyter-widgets/controls",
      "model_module_version": "2.0.0",
      "model_name": "HTMLStyleModel",
      "state": {
       "description_width": "",
       "font_size": null,
       "text_color": null
      }
     },
     "f33d7f04f4354fccac4562ed702b6a6f": {
      "model_module": "@jupyter-widgets/base",
      "model_module_version": "2.0.0",
      "model_name": "LayoutModel",
      "state": {}
     },
     "f7f4ff5c262942f297331ab5f931767c": {
      "model_module": "@jupyter-widgets/controls",
      "model_module_version": "2.0.0",
      "model_name": "HTMLStyleModel",
      "state": {
       "description_width": "",
       "font_size": null,
       "text_color": null
      }
     },
     "fcd18d4c6d3d4f68aacdc7e3d93ddc4d": {
      "model_module": "@jupyter-widgets/base",
      "model_module_version": "2.0.0",
      "model_name": "LayoutModel",
      "state": {}
     }
    },
    "version_major": 2,
    "version_minor": 0
   }
  }
 },
 "nbformat": 4,
 "nbformat_minor": 5
}
