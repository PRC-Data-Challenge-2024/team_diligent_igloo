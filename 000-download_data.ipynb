{
 "cells": [
  {
   "cell_type": "markdown",
   "metadata": {},
   "source": [
    "# Copyright Disclaimer\n",
    "\n",
    "We, the authors of this work, hereby disclaim all copyright interest in the notebooks and code submitted as part of the PRC Data Challenge 2024, which predicts Estimated Aircraft Take-Off Mass. \n",
    "\n",
    "Signed, \n",
    "\n",
    "Antonio P. Barata <br>\n",
    "Bernard Bronmans <br>\n",
    "Victor Ciulei <br>\n",
    "\n",
    "28.10.2024"
   ]
  },
  {
   "cell_type": "code",
   "execution_count": 1,
   "metadata": {
    "scrolled": true
   },
   "outputs": [
    {
     "name": "stderr",
     "output_type": "stream",
     "text": [
      "100%|██████████████████████████████████████████████████████████████████████████████████| 28/28 [00:02<00:00, 11.24Mb/s]\n"
     ]
    }
   ],
   "source": [
    "import os\n",
    "from pathlib import Path\n",
    "from pyopensky.s3 import S3Client\n",
    "from concurrent.futures import ThreadPoolExecutor\n",
    "\n",
    "def download_object(s3, obj, data_folder):\n",
    "    s3.download_object(\n",
    "        obj,\n",
    "        filename=Path(data_folder),\n",
    "    )\n",
    "\n",
    "def parallel_download(s3=None, objects=None, data_folder=None, max_workers=None):\n",
    "    with ThreadPoolExecutor(max_workers=max_workers) as executor:\n",
    "        for obj in objects:\n",
    "            executor.submit(\n",
    "                download_object, \n",
    "                s3, \n",
    "                obj, \n",
    "                data_folder\n",
    "            )\n",
    "\n",
    "s3 = S3Client()\n",
    "data_folder = os.path.join(os.getcwd(), \"data\")\n",
    "already_downloaded = os.listdir(data_folder)\n",
    "objects_to_download = [\n",
    "    obj for obj in s3.s3client.list_objects(\"competition-data\", recursive=True)\n",
    "    if obj.object_name not in already_downloaded\n",
    "]\n",
    "parallel_download(\n",
    "    s3=s3, \n",
    "    objects=objects_to_download, \n",
    "    data_folder=data_folder, \n",
    "    max_workers=8 # larger numbers may choke the server\n",
    ")\n"
   ]
  },
  {
   "cell_type": "code",
   "execution_count": null,
   "metadata": {},
   "outputs": [],
   "source": []
  }
 ],
 "metadata": {
  "kernelspec": {
   "display_name": "Python 3",
   "language": "python",
   "name": "python3"
  },
  "language_info": {
   "codemirror_mode": {
    "name": "ipython",
    "version": 3
   },
   "file_extension": ".py",
   "mimetype": "text/x-python",
   "name": "python",
   "nbconvert_exporter": "python",
   "pygments_lexer": "ipython3",
   "version": "3.7.4"
  },
  "toc": {
   "base_numbering": 1,
   "nav_menu": {},
   "number_sections": true,
   "sideBar": true,
   "skip_h1_title": false,
   "title_cell": "Table of Contents",
   "title_sidebar": "Contents",
   "toc_cell": false,
   "toc_position": {},
   "toc_section_display": true,
   "toc_window_display": false
  },
  "varInspector": {
   "cols": {
    "lenName": 16,
    "lenType": 16,
    "lenVar": 40
   },
   "kernels_config": {
    "python": {
     "delete_cmd_postfix": "",
     "delete_cmd_prefix": "del ",
     "library": "var_list.py",
     "varRefreshCmd": "print(var_dic_list())"
    },
    "r": {
     "delete_cmd_postfix": ") ",
     "delete_cmd_prefix": "rm(",
     "library": "var_list.r",
     "varRefreshCmd": "cat(var_dic_list()) "
    }
   },
   "types_to_exclude": [
    "module",
    "function",
    "builtin_function_or_method",
    "instance",
    "_Feature"
   ],
   "window_display": false
  },
  "widgets": {
   "application/vnd.jupyter.widget-state+json": {
    "state": {},
    "version_major": 2,
    "version_minor": 0
   }
  }
 },
 "nbformat": 4,
 "nbformat_minor": 4
}
